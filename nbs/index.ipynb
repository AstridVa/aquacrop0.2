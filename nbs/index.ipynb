{
 "cells": [
  {
   "cell_type": "markdown",
   "metadata": {},
   "source": [
    "# AquaCrop-OSPy\n",
    "\n",
    "> Crop-water model based on AquaCrop-OS"
   ]
  },
  {
   "cell_type": "markdown",
   "metadata": {},
   "source": [
    "## Install"
   ]
  },
  {
   "cell_type": "markdown",
   "metadata": {},
   "source": [
    "`pip install aquacrop`"
   ]
  },
  {
   "cell_type": "markdown",
   "metadata": {},
   "source": [
    "AquaCrop-OS, an open source version of FAO’s multi-crop model, AquaCrop. AquaCrop-OS was released in August 2016 and is the result of collaboration between researchers at the University of Manchester, Water for Food Global Institute, U.N. Food and Agriculture Organization, and Imperial College London.\n",
    "\n",
    "AquaCropOS is an environment built for the design and testing of irrigation stratgeies. We are still in early development and so ensure you have downloaded the latest version.\n",
    "\n",
    "It is built upon the AquaCropOS crop-growth model (written in Matlab `link`) which itself itself is based on the FAO AquaCrop model. Comparisons to both base models are shown in `link`"
   ]
  },
  {
   "cell_type": "markdown",
   "metadata": {},
   "source": [
    "## Quickstart\n",
    "\n",
    "Run tutorials instantly on Google Colab:"
   ]
  },
  {
   "cell_type": "code",
   "execution_count": null,
   "metadata": {},
   "outputs": [],
   "source": []
  }
 ],
 "metadata": {
  "kernelspec": {
   "display_name": "Python 3",
   "language": "python",
   "name": "python3"
  }
 },
 "nbformat": 4,
 "nbformat_minor": 4
}
