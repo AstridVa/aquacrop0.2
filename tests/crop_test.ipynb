{
 "cells": [
  {
   "cell_type": "code",
   "execution_count": null,
   "metadata": {},
   "outputs": [],
   "source": [
    "from aquacrop.classes import    *\n",
    "from aquacrop.core import       *\n",
    "path = get_filepath('tunis_climate.txt')\n",
    "wdf = prepare_weather(path)\n",
    "from aquacrop.crops.crop_params import crop_params\n",
    "\n",
    "def run_model(year1,year2,crop_config):\n",
    "    \"\"\"\n",
    "    funciton to run model and return results for given set of soil moisture targets\n",
    "    \"\"\"\n",
    "\n",
    "    maize = CropClass('custom',PlantingDate='05/01',**crop_config) # define crop\n",
    "    loam = SoilClass('SiltClayLoam') # define soil\n",
    "    init_wc = InitWCClass() # define initial soil water conditions\n",
    "\n",
    "    irrmngt = IrrMngtClass(IrrMethod=1,SMT=[70]*4,) # define irrigation management\n",
    "\n",
    "    # create and run model\n",
    "    model = AquaCropModel(f'{year1}/05/01',f'{year2}/12/31',wdf,loam,maize,\n",
    "                          IrrMngt=irrmngt,InitWC=init_wc,)\n",
    "    model.initialize()\n",
    "    model.step(till_termination=True)\n",
    "    return model.Outputs\n"
   ]
  },
  {
   "cell_type": "code",
   "execution_count": null,
   "metadata": {},
   "outputs": [],
   "source": []
  }
 ],
 "metadata": {
  "interpreter": {
   "hash": "86285c7a24a4ab5102d9c7625ebd903ccc0e35ff31bdb20dbc2de82ede01b241"
  },
  "kernelspec": {
   "display_name": "Python 3.8.0 ('acdev')",
   "language": "python",
   "name": "python3"
  },
  "language_info": {
   "name": "python",
   "version": "3.8.0"
  },
  "orig_nbformat": 4
 },
 "nbformat": 4,
 "nbformat_minor": 2
}
