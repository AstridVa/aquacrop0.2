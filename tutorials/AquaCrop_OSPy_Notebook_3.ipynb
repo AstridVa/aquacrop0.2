{
  "nbformat": 4,
  "nbformat_minor": 0,
  "metadata": {
    "kernelspec": {
      "display_name": "Python 3",
      "language": "python",
      "name": "python3"
    },
    "language_info": {
      "codemirror_mode": {
        "name": "ipython",
        "version": 3
      },
      "file_extension": ".py",
      "mimetype": "text/x-python",
      "name": "python",
      "nbconvert_exporter": "python",
      "pygments_lexer": "ipython3",
      "version": "3.7.6"
    },
    "colab": {
      "name": "AquaCrop-OSPy: Notebook 3.ipynb",
      "provenance": [],
      "collapsed_sections": [],
      "toc_visible": true
    },
    "widgets": {
      "application/vnd.jupyter.widget-state+json": {
        "a66e381da8594ea697e1ec00ebe67937": {
          "model_module": "@jupyter-widgets/controls",
          "model_name": "HBoxModel",
          "state": {
            "_view_name": "HBoxView",
            "_dom_classes": [],
            "_model_name": "HBoxModel",
            "_view_module": "@jupyter-widgets/controls",
            "_model_module_version": "1.5.0",
            "_view_count": null,
            "_view_module_version": "1.5.0",
            "box_style": "",
            "layout": "IPY_MODEL_d385e6a40b2f46f7a6e15509fa0601a8",
            "_model_module": "@jupyter-widgets/controls",
            "children": [
              "IPY_MODEL_1b251ad71d5241128797fd670ba3588e",
              "IPY_MODEL_2de9a1ba24924c6e8db58a5cfdf23ab3"
            ]
          }
        },
        "d385e6a40b2f46f7a6e15509fa0601a8": {
          "model_module": "@jupyter-widgets/base",
          "model_name": "LayoutModel",
          "state": {
            "_view_name": "LayoutView",
            "grid_template_rows": null,
            "right": null,
            "justify_content": null,
            "_view_module": "@jupyter-widgets/base",
            "overflow": null,
            "_model_module_version": "1.2.0",
            "_view_count": null,
            "flex_flow": null,
            "width": null,
            "min_width": null,
            "border": null,
            "align_items": null,
            "bottom": null,
            "_model_module": "@jupyter-widgets/base",
            "top": null,
            "grid_column": null,
            "overflow_y": null,
            "overflow_x": null,
            "grid_auto_flow": null,
            "grid_area": null,
            "grid_template_columns": null,
            "flex": null,
            "_model_name": "LayoutModel",
            "justify_items": null,
            "grid_row": null,
            "max_height": null,
            "align_content": null,
            "visibility": null,
            "align_self": null,
            "height": null,
            "min_height": null,
            "padding": null,
            "grid_auto_rows": null,
            "grid_gap": null,
            "max_width": null,
            "order": null,
            "_view_module_version": "1.2.0",
            "grid_template_areas": null,
            "object_position": null,
            "object_fit": null,
            "grid_auto_columns": null,
            "margin": null,
            "display": null,
            "left": null
          }
        },
        "1b251ad71d5241128797fd670ba3588e": {
          "model_module": "@jupyter-widgets/controls",
          "model_name": "FloatProgressModel",
          "state": {
            "_view_name": "ProgressView",
            "style": "IPY_MODEL_a4e8d740c90546a7889f40ad26e91693",
            "_dom_classes": [],
            "description": "100%",
            "_model_name": "FloatProgressModel",
            "bar_style": "success",
            "max": 10,
            "_view_module": "@jupyter-widgets/controls",
            "_model_module_version": "1.5.0",
            "value": 10,
            "_view_count": null,
            "_view_module_version": "1.5.0",
            "orientation": "horizontal",
            "min": 0,
            "description_tooltip": null,
            "_model_module": "@jupyter-widgets/controls",
            "layout": "IPY_MODEL_ab7f47d108f840caa5e4ea9da3a29b71"
          }
        },
        "2de9a1ba24924c6e8db58a5cfdf23ab3": {
          "model_module": "@jupyter-widgets/controls",
          "model_name": "HTMLModel",
          "state": {
            "_view_name": "HTMLView",
            "style": "IPY_MODEL_6a7e1ecfc4d44dd6bfc815b399f7f9be",
            "_dom_classes": [],
            "description": "",
            "_model_name": "HTMLModel",
            "placeholder": "​",
            "_view_module": "@jupyter-widgets/controls",
            "_model_module_version": "1.5.0",
            "value": " 10/10 [09:03&lt;00:00, 54.37s/it]",
            "_view_count": null,
            "_view_module_version": "1.5.0",
            "description_tooltip": null,
            "_model_module": "@jupyter-widgets/controls",
            "layout": "IPY_MODEL_2683d01f99a341649e6695c0e4a3e13c"
          }
        },
        "a4e8d740c90546a7889f40ad26e91693": {
          "model_module": "@jupyter-widgets/controls",
          "model_name": "ProgressStyleModel",
          "state": {
            "_view_name": "StyleView",
            "_model_name": "ProgressStyleModel",
            "description_width": "initial",
            "_view_module": "@jupyter-widgets/base",
            "_model_module_version": "1.5.0",
            "_view_count": null,
            "_view_module_version": "1.2.0",
            "bar_color": null,
            "_model_module": "@jupyter-widgets/controls"
          }
        },
        "ab7f47d108f840caa5e4ea9da3a29b71": {
          "model_module": "@jupyter-widgets/base",
          "model_name": "LayoutModel",
          "state": {
            "_view_name": "LayoutView",
            "grid_template_rows": null,
            "right": null,
            "justify_content": null,
            "_view_module": "@jupyter-widgets/base",
            "overflow": null,
            "_model_module_version": "1.2.0",
            "_view_count": null,
            "flex_flow": null,
            "width": null,
            "min_width": null,
            "border": null,
            "align_items": null,
            "bottom": null,
            "_model_module": "@jupyter-widgets/base",
            "top": null,
            "grid_column": null,
            "overflow_y": null,
            "overflow_x": null,
            "grid_auto_flow": null,
            "grid_area": null,
            "grid_template_columns": null,
            "flex": null,
            "_model_name": "LayoutModel",
            "justify_items": null,
            "grid_row": null,
            "max_height": null,
            "align_content": null,
            "visibility": null,
            "align_self": null,
            "height": null,
            "min_height": null,
            "padding": null,
            "grid_auto_rows": null,
            "grid_gap": null,
            "max_width": null,
            "order": null,
            "_view_module_version": "1.2.0",
            "grid_template_areas": null,
            "object_position": null,
            "object_fit": null,
            "grid_auto_columns": null,
            "margin": null,
            "display": null,
            "left": null
          }
        },
        "6a7e1ecfc4d44dd6bfc815b399f7f9be": {
          "model_module": "@jupyter-widgets/controls",
          "model_name": "DescriptionStyleModel",
          "state": {
            "_view_name": "StyleView",
            "_model_name": "DescriptionStyleModel",
            "description_width": "",
            "_view_module": "@jupyter-widgets/base",
            "_model_module_version": "1.5.0",
            "_view_count": null,
            "_view_module_version": "1.2.0",
            "_model_module": "@jupyter-widgets/controls"
          }
        },
        "2683d01f99a341649e6695c0e4a3e13c": {
          "model_module": "@jupyter-widgets/base",
          "model_name": "LayoutModel",
          "state": {
            "_view_name": "LayoutView",
            "grid_template_rows": null,
            "right": null,
            "justify_content": null,
            "_view_module": "@jupyter-widgets/base",
            "overflow": null,
            "_model_module_version": "1.2.0",
            "_view_count": null,
            "flex_flow": null,
            "width": null,
            "min_width": null,
            "border": null,
            "align_items": null,
            "bottom": null,
            "_model_module": "@jupyter-widgets/base",
            "top": null,
            "grid_column": null,
            "overflow_y": null,
            "overflow_x": null,
            "grid_auto_flow": null,
            "grid_area": null,
            "grid_template_columns": null,
            "flex": null,
            "_model_name": "LayoutModel",
            "justify_items": null,
            "grid_row": null,
            "max_height": null,
            "align_content": null,
            "visibility": null,
            "align_self": null,
            "height": null,
            "min_height": null,
            "padding": null,
            "grid_auto_rows": null,
            "grid_gap": null,
            "max_width": null,
            "order": null,
            "_view_module_version": "1.2.0",
            "grid_template_areas": null,
            "object_position": null,
            "object_fit": null,
            "grid_auto_columns": null,
            "margin": null,
            "display": null,
            "left": null
          }
        }
      }
    }
  },
  "cells": [
    {
      "cell_type": "markdown",
      "metadata": {
        "id": "F46q9WuSNxCZ"
      },
      "source": [
        "# AquaCrop-OSPy: Bridging the gap between research and practice in crop-water modelling\n"
      ]
    },
    {
      "cell_type": "markdown",
      "metadata": {
        "id": "qrRbaHsji3A-"
      },
      "source": [
        "This series of notebooks provides users with an introduction to AquaCrop-OSPy, an open-source Python implementation of the U.N. Food and Agriculture Organization (FAO) AquaCrop model. AquaCrop-OSPy is accompanied by a series of Jupyter notebooks, which guide users interactively through a range of common applications of the model. Only basic Python experience is required, and the notebooks can easily be extended and adapted by users for their own applications and needs."
      ]
    },
    {
      "cell_type": "markdown",
      "metadata": {
        "id": "YDm931IGNxCb"
      },
      "source": [
        "\n",
        "This notebook series consists of four parts:\n",
        "\n",
        "1.   <a href=https://colab.research.google.com/drive/12FAebSPAVcVB4lO263rTo_tohppnxpy4>Running an AquaCrop-OSPy model</a>\n",
        "2.   <a href=https://colab.research.google.com/drive/1rCYraDeeYSvbQsgc0wjgW96M4KGEsBE8>Estimation of irrigation water demands</a>\n",
        "3.   <a href=https://colab.research.google.com/drive/1cX6-D-MNNNlNFZJ2WTLUepWqM5F8UHjq>Optimisation of irrigation management strategies</a>\n",
        "4.  <a href=https://colab.research.google.com/drive/1V5AnHOTPwFxd168dmJAviXyFrg4ImKlJ>Projection of climate change impacts</a>\n"
      ]
    },
    {
      "cell_type": "markdown",
      "metadata": {
        "id": "06mipdLvNxDM"
      },
      "source": [
        "# Notebook 3: Developing and optimizing irrigation stratgeies "
      ]
    },
    {
      "cell_type": "markdown",
      "metadata": {
        "id": "UtTYfAETdnap"
      },
      "source": [
        "In the previous notebook, we looked at how to simulate yields and water use for different pre-specified irrigation management practices or rules. However, what if you wanted to know which strategy would give you the maximum yield for a given amount of irrigation water use? In this notebook, we look at how optimal irrigation schedules can be identified by linking AquaCrop-OSPy with one of the many optimization modules in available in the python ecosystem.\n",
        "\n",
        "Our specific example focuses on optimizing soil-moisture thresholds which are commonly used both in practice and literature on optimizing irrigation decisions. During the growing season, if the soil-moisture content drops below the threshold, irrigation is applied to refill the soil profile back to field capacity subject to a maximum irrigation depth. AquaCrop-OSPy allows you to define four thresholds corresponding to four main growing periods (emergence, canopy growth, max canopy and senescence). Changing the threshold depending on crop growth stage reflects the fact that crop water requirements and drought stress responses vary over the course of the season. \n",
        "\n",
        "Using the optimization library `scipy.optimize` we will find sets of soil-moisture thresholds that maximize yields for a Maize crop located in Champion Nebraska. The optimization will be repeated for different water supply constraints (maximum amount of water that can be applied in a given season). The simulation will take place over 5 years (2014-2018)."
      ]
    },
    {
      "cell_type": "markdown",
      "metadata": {
        "id": "wRrE1XpNEDzd"
      },
      "source": [
        "Import and install AquaCrop-OSPy"
      ]
    },
    {
      "cell_type": "code",
      "metadata": {
        "id": "YeE-XYevED-d"
      },
      "source": [
        "!pip install aquacrop==0.1.0\n",
        "\n",
        "from aquacrop.classes import    *\n",
        "from aquacrop.core import       *\n",
        "\n",
        "from google.colab import output\n",
        "output.clear()"
      ],
      "execution_count": 1,
      "outputs": []
    },
    {
      "cell_type": "code",
      "metadata": {
        "id": "pTbK0IL2FTX0"
      },
      "source": [
        "path = get_filepath('champion_climate.txt')\n",
        "wdf = prepare_weather(path)"
      ],
      "execution_count": 2,
      "outputs": []
    },
    {
      "cell_type": "markdown",
      "metadata": {
        "id": "SEHCszsGOs0V"
      },
      "source": [
        "Define a function called `run_model` that creates and runs an AquaCrop model (just like in the previous notebooks), and returns the final output."
      ]
    },
    {
      "cell_type": "code",
      "metadata": {
        "id": "4iZrXVK31BHQ"
      },
      "source": [
        "def run_model(smts,max_irr_season,year1,year2):\n",
        "    \"\"\"\n",
        "    funciton to run model and return results for given set of soil moisture targets\n",
        "    \"\"\"\n",
        "\n",
        "    maize = CropClass('Maize',PlantingDate='05/01') # define crop\n",
        "    loam = SoilClass('ClayLoam') # define soil\n",
        "    init_wc = InitWCClass(wc_type='Pct',value=[70]) # define initial soil water conditions\n",
        "\n",
        "    irrmngt = IrrMngtClass(IrrMethod=1,SMT=smts,MaxIrrSeason=max_irr_season) # define irrigation management\n",
        "\n",
        "    # create and run model\n",
        "    model = AquaCropModel(f'{year1}/05/01',f'{year2}/10/31',wdf,loam,maize,\n",
        "                          IrrMngt=irrmngt,InitWC=init_wc)\n",
        "    model.initialize()\n",
        "    model.step(till_termination=True)\n",
        "    return model.Outputs.Final\n"
      ],
      "execution_count": 3,
      "outputs": []
    },
    {
      "cell_type": "code",
      "metadata": {
        "id": "IvQmxGZjFEX0",
        "colab": {
          "base_uri": "https://localhost:8080/",
          "height": 80
        },
        "outputId": "6dceddff-2a08-40df-9156-305e9d093eac"
      },
      "source": [
        "run_model([70]*4,300,2018,2018)"
      ],
      "execution_count": 4,
      "outputs": [
        {
          "output_type": "execute_result",
          "data": {
            "text/html": [
              "<div>\n",
              "<style scoped>\n",
              "    .dataframe tbody tr th:only-of-type {\n",
              "        vertical-align: middle;\n",
              "    }\n",
              "\n",
              "    .dataframe tbody tr th {\n",
              "        vertical-align: top;\n",
              "    }\n",
              "\n",
              "    .dataframe thead th {\n",
              "        text-align: right;\n",
              "    }\n",
              "</style>\n",
              "<table border=\"1\" class=\"dataframe\">\n",
              "  <thead>\n",
              "    <tr style=\"text-align: right;\">\n",
              "      <th></th>\n",
              "      <th>Season</th>\n",
              "      <th>Name</th>\n",
              "      <th>HarvestDate</th>\n",
              "      <th>Step</th>\n",
              "      <th>Yield</th>\n",
              "      <th>Tirr</th>\n",
              "    </tr>\n",
              "  </thead>\n",
              "  <tbody>\n",
              "    <tr>\n",
              "      <th>0</th>\n",
              "      <td>0</td>\n",
              "      <td>Maize</td>\n",
              "      <td>2018-09-16</td>\n",
              "      <td>137</td>\n",
              "      <td>14.240747</td>\n",
              "      <td>300.0</td>\n",
              "    </tr>\n",
              "  </tbody>\n",
              "</table>\n",
              "</div>"
            ],
            "text/plain": [
              "  Season   Name HarvestDate Step      Yield   Tirr\n",
              "0      0  Maize  2018-09-16  137  14.240747  300.0"
            ]
          },
          "metadata": {
            "tags": []
          },
          "execution_count": 4
        }
      ]
    },
    {
      "cell_type": "markdown",
      "metadata": {
        "id": "cJRQ_AK71BlK"
      },
      "source": [
        "Define `evaluate` will act as a reward function for the optimization library to optimize. Inside this function we run the model and return the reward (in this case the average yield).\n"
      ]
    },
    {
      "cell_type": "code",
      "metadata": {
        "id": "jqDhsQX81Bvx"
      },
      "source": [
        "import numpy as np # import numpy library\n",
        "\n",
        "def evaluate(smts,max_irr_season,test=False):\n",
        "    \"\"\"\n",
        "    funciton to run model and calculate reward (yield) for given set of soil moisture targets\n",
        "    \"\"\"\n",
        "    # run model\n",
        "    out = run_model(smts,max_irr_season,year1=2010,year2=2018)\n",
        "    # get yields and total irrigation\n",
        "    yld = out.Yield.mean()\n",
        "    tirr = out.Tirr.mean()\n",
        "\n",
        "    reward=yld\n",
        "\n",
        "    # return either the negative reward (for the optimization)\n",
        "    # or the yield and total irrigation (for analysis)\n",
        "    if test:\n",
        "        return yld,tirr,reward\n",
        "    else:\n",
        "        return -reward\n"
      ],
      "execution_count": 5,
      "outputs": []
    },
    {
      "cell_type": "code",
      "metadata": {
        "id": "qjd3YYIEnbCQ",
        "colab": {
          "base_uri": "https://localhost:8080/"
        },
        "outputId": "e88fd897-a102-4a26-e2f5-a488d7755fac"
      },
      "source": [
        "evaluate([70]*4,300)"
      ],
      "execution_count": 6,
      "outputs": [
        {
          "output_type": "execute_result",
          "data": {
            "text/plain": [
              "-12.043959360304626"
            ]
          },
          "metadata": {
            "tags": []
          },
          "execution_count": 6
        }
      ]
    },
    {
      "cell_type": "markdown",
      "metadata": {
        "id": "5MHlW3OU1B5Y"
      },
      "source": [
        "Define `get_starting_point` that chooses a set of random irrigation strategies and evaluates them to give us a good starting point for our optimization. (Since we are only using a local minimization function this will help get a good result)"
      ]
    },
    {
      "cell_type": "code",
      "metadata": {
        "id": "2vmaxOt51CCJ"
      },
      "source": [
        "def get_starting_point(num_smts,max_irr_season,num_searches):\n",
        "    \"\"\"\n",
        "    find good starting threshold(s) for optimization\n",
        "    \"\"\"\n",
        "\n",
        "    # get random SMT's\n",
        "    x0list = np.random.rand(num_searches,num_smts)*100\n",
        "    rlist=[]\n",
        "    # evaluate random SMT's\n",
        "    for xtest in x0list:\n",
        "        r = evaluate(xtest,max_irr_season,)\n",
        "        rlist.append(r)\n",
        "\n",
        "    # save best SMT\n",
        "    x0=x0list[np.argmin(rlist)]\n",
        "    \n",
        "    return x0"
      ],
      "execution_count": 7,
      "outputs": []
    },
    {
      "cell_type": "code",
      "metadata": {
        "id": "5n0uXS69oSht",
        "colab": {
          "base_uri": "https://localhost:8080/"
        },
        "outputId": "05d41e87-730c-4c5f-b01f-d22395ac4199"
      },
      "source": [
        "get_starting_point(4,300,10)"
      ],
      "execution_count": 8,
      "outputs": [
        {
          "output_type": "execute_result",
          "data": {
            "text/plain": [
              "array([19.28980855, 50.07647966, 33.56774071, 98.86032182])"
            ]
          },
          "metadata": {
            "tags": []
          },
          "execution_count": 8
        }
      ]
    },
    {
      "cell_type": "markdown",
      "metadata": {
        "id": "7jiBcJX21CLq"
      },
      "source": [
        "Define `optimize` that uses the `scipy.optimize.fmin` optimization package to find yield maximizing irrigation strategies for a maximum seasonal irrigation limit. \n"
      ]
    },
    {
      "cell_type": "code",
      "metadata": {
        "id": "-DWJXZky09hD"
      },
      "source": [
        "from scipy.optimize import fmin\n",
        "\n",
        "def optimize(num_smts,max_irr_season,num_searches=20):\n",
        "    \"\"\" \n",
        "    optimize thresholds to be profit maximising\n",
        "    \"\"\"\n",
        "    # get starting optimization strategy\n",
        "    x0=get_starting_point(num_smts,max_irr_season,num_searches)\n",
        "    # run optimization\n",
        "    res = fmin(evaluate, x0,disp=0,args=(max_irr_season,))\n",
        "    # reshape array\n",
        "    smts= res.squeeze()\n",
        "    # evaluate optimal strategy\n",
        "    return smts"
      ],
      "execution_count": 9,
      "outputs": []
    },
    {
      "cell_type": "code",
      "metadata": {
        "id": "BJzmQJRiJgBi"
      },
      "source": [
        "smts=optimize(4,300)"
      ],
      "execution_count": 10,
      "outputs": []
    },
    {
      "cell_type": "code",
      "metadata": {
        "id": "lqO0byzyMdzs",
        "colab": {
          "base_uri": "https://localhost:8080/"
        },
        "outputId": "7654afbf-d320-4cb7-d389-5c8b53cdf141"
      },
      "source": [
        "evaluate(smts,300,True)"
      ],
      "execution_count": 11,
      "outputs": [
        {
          "output_type": "execute_result",
          "data": {
            "text/plain": [
              "(12.813086747955369, 291.6666666666667, 12.813086747955369)"
            ]
          },
          "metadata": {
            "tags": []
          },
          "execution_count": 11
        }
      ]
    },
    {
      "cell_type": "markdown",
      "metadata": {
        "id": "iv43bK1rPSPj"
      },
      "source": [
        "For a range of maximum seasonal irrigation limits (0-450mm), find the yield maximizing irrigation schedule."
      ]
    },
    {
      "cell_type": "code",
      "metadata": {
        "id": "inrpfwj2NxDS",
        "colab": {
          "base_uri": "https://localhost:8080/",
          "height": 67,
          "referenced_widgets": [
            "a66e381da8594ea697e1ec00ebe67937",
            "d385e6a40b2f46f7a6e15509fa0601a8",
            "1b251ad71d5241128797fd670ba3588e",
            "2de9a1ba24924c6e8db58a5cfdf23ab3",
            "a4e8d740c90546a7889f40ad26e91693",
            "ab7f47d108f840caa5e4ea9da3a29b71",
            "6a7e1ecfc4d44dd6bfc815b399f7f9be",
            "2683d01f99a341649e6695c0e4a3e13c"
          ]
        },
        "outputId": "6cbe0200-db50-40af-d24b-0bb8144acbde"
      },
      "source": [
        "from tqdm.notebook import tqdm # progress bar\n",
        "\n",
        "opt_smts=[]\n",
        "yld_list=[]\n",
        "tirr_list=[]\n",
        "for max_irr in tqdm(range(0,500,50)):\n",
        "\n",
        "    # find optimal thresholds and save to list\n",
        "    smts=optimize(4,max_irr)\n",
        "    opt_smts.append(smts)\n",
        "\n",
        "    # save the optimal yield and total irrigation\n",
        "    yld,tirr,_=evaluate(smts,max_irr,True)\n",
        "    yld_list.append(yld)\n",
        "    tirr_list.append(tirr)"
      ],
      "execution_count": 12,
      "outputs": [
        {
          "output_type": "display_data",
          "data": {
            "application/vnd.jupyter.widget-view+json": {
              "model_id": "a66e381da8594ea697e1ec00ebe67937",
              "version_minor": 0,
              "version_major": 2
            },
            "text/plain": [
              "HBox(children=(FloatProgress(value=0.0, max=10.0), HTML(value='')))"
            ]
          },
          "metadata": {
            "tags": []
          }
        },
        {
          "output_type": "stream",
          "text": [
            "\n"
          ],
          "name": "stdout"
        }
      ]
    },
    {
      "cell_type": "markdown",
      "metadata": {
        "id": "Lw0iPcZ6pSKl"
      },
      "source": [
        "Visualize the optimal yield and total irrigation, creating a crop-water production function."
      ]
    },
    {
      "cell_type": "code",
      "metadata": {
        "id": "8uXbVnWGQDuI",
        "colab": {
          "base_uri": "https://localhost:8080/",
          "height": 468
        },
        "outputId": "b8be4dd8-9fc6-4344-f050-18cf202ac816"
      },
      "source": [
        "# import plotting library\n",
        "import matplotlib.pyplot as plt\n",
        "\n",
        "# create plot\n",
        "fig,ax=plt.subplots(1,1,figsize=(10,7))\n",
        "\n",
        "# plot results\n",
        "ax.scatter(tirr_list,yld_list)\n",
        "ax.plot(tirr_list,yld_list)\n",
        "\n",
        "# labels\n",
        "ax.set_xlabel('Total Irrigation (ha-mm)',fontsize=18)\n",
        "ax.set_ylabel('Yield (tonne/ha)',fontsize=18)"
      ],
      "execution_count": 13,
      "outputs": [
        {
          "output_type": "execute_result",
          "data": {
            "text/plain": [
              "Text(0, 0.5, 'Yield (tonne/ha)')"
            ]
          },
          "metadata": {
            "tags": []
          },
          "execution_count": 13
        },
        {
          "output_type": "display_data",
          "data": {
            "image/png": "[encoded data removed]",
            "text/plain": [
              "<Figure size 720x504 with 1 Axes>"
            ]
          },
          "metadata": {
            "tags": [],
            "needs_background": "light"
          }
        }
      ]
    },
    {
      "cell_type": "code",
      "metadata": {
        "id": "wzy2KkarNy0W"
      },
      "source": [
        ""
      ],
      "execution_count": 13,
      "outputs": []
    },
    {
      "cell_type": "markdown",
      "metadata": {
        "id": "HnEU_KRsNzRF"
      },
      "source": [
        "# Appendix: Parrallel\n",
        "\n",
        "Can also speed things up with a parallel approach. Though for Colab notebooks there are only 2 CPUs so we are not expecting a massive speed up. But this kind of approach can be useful when more CPUs are available either locally or in cloud computing infestructure. "
      ]
    },
    {
      "cell_type": "code",
      "metadata": {
        "id": "FYCXPP0tRUUE"
      },
      "source": [
        "# import multiprocessing library\n",
        "from multiprocessing import Pool\n",
        "\n",
        "# time library so we can check the speed up\n",
        "from time import time\n",
        "\n",
        "# define funciton to parallelize\n",
        "def func(max_irr):\n",
        "\n",
        "    # find optimal smts\n",
        "    smts=optimize(4,max_irr)\n",
        "\n",
        "    # return the optimal yield, total irrigaiton and thresholds\n",
        "    yld,tirr,_=evaluate(smts,max_irr,True)\n",
        "    print(f\"finished max_irr = {max_irr} at {round(time()-start)} seconds\")\n",
        "    return yld,tirr,smts\n"
      ],
      "execution_count": 14,
      "outputs": []
    },
    {
      "cell_type": "markdown",
      "metadata": {
        "id": "v8DTCUkEqVtV"
      },
      "source": [
        "Multi processing in python can be done using the `Pool` object. The code below create a `Pool` object, passing in the number of CPU cores that you want to parallelize over. Then use `p.map` to evaluate the function `func` for each input given in the list. "
      ]
    },
    {
      "cell_type": "code",
      "metadata": {
        "id": "IKoSrvxvqU5y"
      },
      "source": [
        "start = time() # save start time \n",
        "with Pool(2) as p:\n",
        "    results = p.map(func, list(range(0,500,50)))"
      ],
      "execution_count": null,
      "outputs": []
    },
    {
      "cell_type": "markdown",
      "metadata": {
        "id": "YjfhsnSlX8jI"
      },
      "source": [
        "This approach in Colab does not give us a massive speed up, however this approach can be a big help if more CPU cores are available. Combine results for visualization."
      ]
    },
    {
      "cell_type": "code",
      "metadata": {
        "id": "vwmEZ8x7ULTu"
      },
      "source": [
        "parr_opt_smts=[]\n",
        "parr_yld_list=[]\n",
        "parr_tirr_list=[]\n",
        "for i in range(len(results)):\n",
        "    parr_yld_list.append(results[i][0])\n",
        "    parr_tirr_list.append(results[i][1])\n",
        "    parr_opt_smts.append(results[i][2])"
      ],
      "execution_count": null,
      "outputs": []
    },
    {
      "cell_type": "markdown",
      "metadata": {
        "id": "EY5oJJiGsBkT"
      },
      "source": [
        "Plot crop-water production function."
      ]
    },
    {
      "cell_type": "code",
      "metadata": {
        "id": "tO3ec6bYUr98"
      },
      "source": [
        "fig,ax=plt.subplots(1,1,figsize=(10,7))\n",
        "\n",
        "ax.scatter(parr_tirr_list,parr_yld_list)\n",
        "ax.plot(parr_tirr_list,parr_yld_list)\n",
        "\n",
        "ax.set_xlabel('Total Irrigation (ha-mm)')\n",
        "ax.set_ylabel('Yield (tonne/ha)',fontsize=18)"
      ],
      "execution_count": null,
      "outputs": []
    },
    {
      "cell_type": "code",
      "metadata": {
        "id": "HFWYDsTLvtgm"
      },
      "source": [
        ""
      ],
      "execution_count": null,
      "outputs": []
    }
  ]
}