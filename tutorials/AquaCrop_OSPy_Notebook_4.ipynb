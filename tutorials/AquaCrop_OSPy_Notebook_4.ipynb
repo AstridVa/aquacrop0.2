{
 "cells": [
  {
   "cell_type": "markdown",
   "metadata": {
    "id": "F46q9WuSNxCZ"
   },
   "source": [
    "# AquaCrop-OSPy: Bridging the gap between research and practice in crop-water modelling\n"
   ]
  },
  {
   "cell_type": "markdown",
   "metadata": {
    "id": "qrRbaHsji3A-"
   },
   "source": [
    "This series of notebooks provides users with an introduction to AquaCrop-OSPy, an open-source Python implementation of the U.N. Food and Agriculture Organization (FAO) AquaCrop model. AquaCrop-OSPy is accompanied by a series of Jupyter notebooks, which guide users interactively through a range of common applications of the model. Only basic Python experience is required, and the notebooks can easily be extended and adapted by users for their own applications and needs."
   ]
  },
  {
   "cell_type": "markdown",
   "metadata": {
    "id": "YDm931IGNxCb"
   },
   "source": [
    "\n",
    "This notebook series consists of four parts:\n",
    "\n",
    "1.   <a href=https://colab.research.google.com/github/thomasdkelly/aquacrop/blob/master/tutorials/AquaCrop_OSPy_Notebook_1.ipynb>Running an AquaCrop-OSPy model</a>\n",
    "2.   <a href=https://colab.research.google.com/github/thomasdkelly/aquacrop/blob/master/tutorials/AquaCrop_OSPy_Notebook_2.ipynb>Estimation of irrigation water demands</a>\n",
    "3.   <a href=https://colab.research.google.com/github/thomasdkelly/aquacrop/blob/master/tutorials/AquaCrop_OSPy_Notebook_3.ipynb>Optimisation of irrigation management strategies</a>\n",
    "4.  <a href=https://colab.research.google.com/github/thomasdkelly/aquacrop/blob/master/tutorials/AquaCrop_OSPy_Notebook_4.ipynb>Projection of climate change impacts</a>\n"
   ]
  },
  {
   "cell_type": "markdown",
   "metadata": {
    "id": "vyNH7lekn95A"
   },
   "source": [
    "# Notebook 4: Irrigation demands under different climate change scenarios"
   ]
  },
  {
   "cell_type": "markdown",
   "metadata": {
    "id": "645ACFLgeI_9"
   },
   "source": [
    "In this notebook, we show how AquaCrop-OSPy can be used to simulate impacts of climate change on crop production and irrigation water demands. Climate change is a major driver of production and water scarcity for agriculture globally, and data generated can thus play an important role in designing effective adaptation measures to support farmers and rural economies.\n",
    "\n",
    "The example presented here focuses on a case study of maize production in the central United States. Baseline data from this region (1982-2018) is used to generate future climate projections using the LARS weather generator. Projections are generated for the periods (2021-2040, 2041-2060, 2061-2080) and for emissions scenarios RCP4.5 and RCP8.5 based on outputs from the EC-EARTH climate model. "
   ]
  },
  {
   "cell_type": "markdown",
   "metadata": {
    "id": "qr27PTpVuMgX"
   },
   "source": [
    "First install and import AquaCrop-OSPy"
   ]
  },
  {
   "cell_type": "code",
   "execution_count": 1,
   "metadata": {
    "id": "8VUQP-sP75vw"
   },
   "outputs": [],
   "source": [
    "!pip install aquacrop==0.1.0\n",
    "\n",
    "from aquacrop.classes import    *\n",
    "from aquacrop.core import       *\n",
    "from aquacrop.lars import       *\n",
    "\n",
    "from google.colab import output\n",
    "output.clear()"
   ]
  },
  {
   "cell_type": "markdown",
   "metadata": {
    "id": "_OFr1ECjoPFm"
   },
   "source": [
    "Given the popularity of using LARS-WG for this type of analyis, AquaCrop-OSPy contains a built in function for reading LARS generated outputs. These outputs consist of daily climate projections of precipitation, minimum and maximum temperature and solar radiation. Using the Hargreaves ETo method these values were used to estimate the reference evapotranspiration, resulting in a weather DataFrame in the format required by AquaCrop-OSPy. \n",
    "\n",
    "The cell below imports the baseline data from Champion, Nebraska"
   ]
  },
  {
   "cell_type": "code",
   "execution_count": 2,
   "metadata": {
    "id": "gWOzGvic57wq"
   },
   "outputs": [],
   "source": [
    "# get baseline lars data\n",
    "lars_fp=get_filepath('CP.dat')\n",
    "lars_base=prepare_lars_weather(lars_fp,-1,False,order=['year', 'jday', 'maxTemp', 'minTemp', 'precip','rad',])"
   ]
  },
  {
   "cell_type": "code",
   "execution_count": 3,
   "metadata": {
    "colab": {
     "base_uri": "https://localhost:8080/",
     "height": 204
    },
    "id": "5h7RRQUMfE6a",
    "outputId": "1241eb20-4283-4354-dcde-0ff726d3d5a7"
   },
   "outputs": [
    {
     "data": {
      "text/html": [
       "<div>\n",
       "<style scoped>\n",
       "    .dataframe tbody tr th:only-of-type {\n",
       "        vertical-align: middle;\n",
       "    }\n",
       "\n",
       "    .dataframe tbody tr th {\n",
       "        vertical-align: top;\n",
       "    }\n",
       "\n",
       "    .dataframe thead th {\n",
       "        text-align: right;\n",
       "    }\n",
       "</style>\n",
       "<table border=\"1\" class=\"dataframe\">\n",
       "  <thead>\n",
       "    <tr style=\"text-align: right;\">\n",
       "      <th></th>\n",
       "      <th>MinTemp</th>\n",
       "      <th>MaxTemp</th>\n",
       "      <th>Precipitation</th>\n",
       "      <th>ReferenceET</th>\n",
       "      <th>Date</th>\n",
       "    </tr>\n",
       "  </thead>\n",
       "  <tbody>\n",
       "    <tr>\n",
       "      <th>0</th>\n",
       "      <td>3.89</td>\n",
       "      <td>17.22</td>\n",
       "      <td>0.00</td>\n",
       "      <td>2.746753</td>\n",
       "      <td>1981-05-20</td>\n",
       "    </tr>\n",
       "    <tr>\n",
       "      <th>1</th>\n",
       "      <td>6.67</td>\n",
       "      <td>21.67</td>\n",
       "      <td>0.00</td>\n",
       "      <td>5.262364</td>\n",
       "      <td>1981-05-21</td>\n",
       "    </tr>\n",
       "    <tr>\n",
       "      <th>2</th>\n",
       "      <td>5.56</td>\n",
       "      <td>25.00</td>\n",
       "      <td>2.01</td>\n",
       "      <td>6.365752</td>\n",
       "      <td>1981-05-22</td>\n",
       "    </tr>\n",
       "    <tr>\n",
       "      <th>3</th>\n",
       "      <td>5.56</td>\n",
       "      <td>19.44</td>\n",
       "      <td>0.00</td>\n",
       "      <td>5.486388</td>\n",
       "      <td>1981-05-23</td>\n",
       "    </tr>\n",
       "    <tr>\n",
       "      <th>4</th>\n",
       "      <td>5.56</td>\n",
       "      <td>24.44</td>\n",
       "      <td>0.00</td>\n",
       "      <td>7.913725</td>\n",
       "      <td>1981-05-24</td>\n",
       "    </tr>\n",
       "  </tbody>\n",
       "</table>\n",
       "</div>"
      ],
      "text/plain": [
       "   MinTemp  MaxTemp  Precipitation  ReferenceET       Date\n",
       "0     3.89    17.22           0.00     2.746753 1981-05-20\n",
       "1     6.67    21.67           0.00     5.262364 1981-05-21\n",
       "2     5.56    25.00           2.01     6.365752 1981-05-22\n",
       "3     5.56    19.44           0.00     5.486388 1981-05-23\n",
       "4     5.56    24.44           0.00     7.913725 1981-05-24"
      ]
     },
     "execution_count": 3,
     "metadata": {
      "tags": []
     },
     "output_type": "execute_result"
    }
   ],
   "source": [
    "lars_base.head()"
   ]
  },
  {
   "cell_type": "markdown",
   "metadata": {
    "id": "XBPc1k8jYxSc"
   },
   "source": [
    "For each combination of climate scenario and projection period, read in climate data and save the weather DataFrame."
   ]
  },
  {
   "cell_type": "code",
   "execution_count": 4,
   "metadata": {
    "id": "L8vYc_YV574J"
   },
   "outputs": [],
   "source": [
    "rcp_list = [45,85]\n",
    "yr_list = [2030,2050,2070]\n",
    "yr_range_list = ['2021-2040','2041-2060','2061-2080']\n",
    "\n",
    "label_list=[]\n",
    "wdf_list = []\n",
    "all_year_list=[]\n",
    "for rcp in rcp_list:\n",
    "    for yr,yr_range in zip(yr_list,yr_range_list):\n",
    "        wdf =prepare_lars_weather(get_filepath(f'CP_EC-EARTH[CP,RCP{rcp},{yr_range}]WG.dat'),\n",
    "                              yr,True,[\"simyear\",\"jday\",\"minTemp\",\"maxTemp\",\"precip\",\"rad\"])\n",
    "        wdf_list.append(wdf)\n",
    "        label_list.append(f'rcp{rcp},\\n{yr_range}')\n",
    "        all_year_list.append(yr)"
   ]
  },
  {
   "cell_type": "code",
   "execution_count": 5,
   "metadata": {
    "colab": {
     "base_uri": "https://localhost:8080/"
    },
    "id": "aaAoxSdYFNrW",
    "outputId": "310cd042-3a56-4961-a6d0-78a0a0d4bdbc"
   },
   "outputs": [
    {
     "data": {
      "text/plain": [
       "['rcp45,\\n2021-2040',\n",
       " 'rcp45,\\n2041-2060',\n",
       " 'rcp45,\\n2061-2080',\n",
       " 'rcp85,\\n2021-2040',\n",
       " 'rcp85,\\n2041-2060',\n",
       " 'rcp85,\\n2061-2080']"
      ]
     },
     "execution_count": 5,
     "metadata": {
      "tags": []
     },
     "output_type": "execute_result"
    }
   ],
   "source": [
    "label_list"
   ]
  },
  {
   "cell_type": "code",
   "execution_count": 6,
   "metadata": {
    "id": "Jw5d30i2evme"
   },
   "outputs": [],
   "source": [
    "# co2 concentrations for the scenarios listed in order\n",
    "co2_list = [435,487,524,449,541,677]"
   ]
  },
  {
   "cell_type": "markdown",
   "metadata": {
    "id": "iF-riRGJfMCC"
   },
   "source": [
    "The LARS generated output files in this example comprise of 100 years of daily weather data (denoted by the 'simyear' column). To select any one of these years, use the `select_lars_wdf` function."
   ]
  },
  {
   "cell_type": "code",
   "execution_count": 7,
   "metadata": {
    "colab": {
     "base_uri": "https://localhost:8080/",
     "height": 204
    },
    "id": "oCmqdiKVwt5e",
    "outputId": "c56ef37b-6cb2-423c-edae-cd28c165bd60"
   },
   "outputs": [
    {
     "data": {
      "text/html": [
       "<div>\n",
       "<style scoped>\n",
       "    .dataframe tbody tr th:only-of-type {\n",
       "        vertical-align: middle;\n",
       "    }\n",
       "\n",
       "    .dataframe tbody tr th {\n",
       "        vertical-align: top;\n",
       "    }\n",
       "\n",
       "    .dataframe thead th {\n",
       "        text-align: right;\n",
       "    }\n",
       "</style>\n",
       "<table border=\"1\" class=\"dataframe\">\n",
       "  <thead>\n",
       "    <tr style=\"text-align: right;\">\n",
       "      <th></th>\n",
       "      <th>simyear</th>\n",
       "      <th>MinTemp</th>\n",
       "      <th>MaxTemp</th>\n",
       "      <th>Precipitation</th>\n",
       "      <th>ReferenceET</th>\n",
       "      <th>Date</th>\n",
       "    </tr>\n",
       "  </thead>\n",
       "  <tbody>\n",
       "    <tr>\n",
       "      <th>0</th>\n",
       "      <td>1</td>\n",
       "      <td>-1.3</td>\n",
       "      <td>-0.4</td>\n",
       "      <td>0.0</td>\n",
       "      <td>0.350425</td>\n",
       "      <td>2030-01-01</td>\n",
       "    </tr>\n",
       "    <tr>\n",
       "      <th>1</th>\n",
       "      <td>1</td>\n",
       "      <td>-10.2</td>\n",
       "      <td>19.7</td>\n",
       "      <td>0.0</td>\n",
       "      <td>3.830520</td>\n",
       "      <td>2030-01-02</td>\n",
       "    </tr>\n",
       "    <tr>\n",
       "      <th>2</th>\n",
       "      <td>1</td>\n",
       "      <td>-8.2</td>\n",
       "      <td>9.0</td>\n",
       "      <td>0.0</td>\n",
       "      <td>2.341957</td>\n",
       "      <td>2030-01-03</td>\n",
       "    </tr>\n",
       "    <tr>\n",
       "      <th>3</th>\n",
       "      <td>1</td>\n",
       "      <td>-5.0</td>\n",
       "      <td>17.3</td>\n",
       "      <td>0.0</td>\n",
       "      <td>2.955675</td>\n",
       "      <td>2030-01-04</td>\n",
       "    </tr>\n",
       "    <tr>\n",
       "      <th>4</th>\n",
       "      <td>1</td>\n",
       "      <td>-7.6</td>\n",
       "      <td>0.0</td>\n",
       "      <td>0.0</td>\n",
       "      <td>1.232625</td>\n",
       "      <td>2030-01-05</td>\n",
       "    </tr>\n",
       "  </tbody>\n",
       "</table>\n",
       "</div>"
      ],
      "text/plain": [
       "   simyear  MinTemp  MaxTemp  Precipitation  ReferenceET       Date\n",
       "0        1     -1.3     -0.4            0.0     0.350425 2030-01-01\n",
       "1        1    -10.2     19.7            0.0     3.830520 2030-01-02\n",
       "2        1     -8.2      9.0            0.0     2.341957 2030-01-03\n",
       "3        1     -5.0     17.3            0.0     2.955675 2030-01-04\n",
       "4        1     -7.6      0.0            0.0     1.232625 2030-01-05"
      ]
     },
     "execution_count": 7,
     "metadata": {
      "tags": []
     },
     "output_type": "execute_result"
    }
   ],
   "source": [
    "wdf_list[0].head()"
   ]
  },
  {
   "cell_type": "code",
   "execution_count": 8,
   "metadata": {
    "colab": {
     "base_uri": "https://localhost:8080/",
     "height": 204
    },
    "id": "5nZX_gdlevkJ",
    "outputId": "76be5865-4e58-4b8e-ee0d-e9ddffd8bf68"
   },
   "outputs": [
    {
     "data": {
      "text/html": [
       "<div>\n",
       "<style scoped>\n",
       "    .dataframe tbody tr th:only-of-type {\n",
       "        vertical-align: middle;\n",
       "    }\n",
       "\n",
       "    .dataframe tbody tr th {\n",
       "        vertical-align: top;\n",
       "    }\n",
       "\n",
       "    .dataframe thead th {\n",
       "        text-align: right;\n",
       "    }\n",
       "</style>\n",
       "<table border=\"1\" class=\"dataframe\">\n",
       "  <thead>\n",
       "    <tr style=\"text-align: right;\">\n",
       "      <th></th>\n",
       "      <th>MinTemp</th>\n",
       "      <th>MaxTemp</th>\n",
       "      <th>Precipitation</th>\n",
       "      <th>ReferenceET</th>\n",
       "      <th>Date</th>\n",
       "    </tr>\n",
       "  </thead>\n",
       "  <tbody>\n",
       "    <tr>\n",
       "      <th>0</th>\n",
       "      <td>-12.3</td>\n",
       "      <td>2.5</td>\n",
       "      <td>0.0</td>\n",
       "      <td>1.538538</td>\n",
       "      <td>2030-01-01</td>\n",
       "    </tr>\n",
       "    <tr>\n",
       "      <th>1</th>\n",
       "      <td>-9.0</td>\n",
       "      <td>-6.0</td>\n",
       "      <td>0.0</td>\n",
       "      <td>0.399806</td>\n",
       "      <td>2030-01-02</td>\n",
       "    </tr>\n",
       "    <tr>\n",
       "      <th>2</th>\n",
       "      <td>-8.4</td>\n",
       "      <td>11.5</td>\n",
       "      <td>0.0</td>\n",
       "      <td>2.078453</td>\n",
       "      <td>2030-01-03</td>\n",
       "    </tr>\n",
       "    <tr>\n",
       "      <th>3</th>\n",
       "      <td>-11.6</td>\n",
       "      <td>-6.6</td>\n",
       "      <td>0.0</td>\n",
       "      <td>0.897857</td>\n",
       "      <td>2030-01-04</td>\n",
       "    </tr>\n",
       "    <tr>\n",
       "      <th>4</th>\n",
       "      <td>-14.7</td>\n",
       "      <td>7.7</td>\n",
       "      <td>0.0</td>\n",
       "      <td>0.441955</td>\n",
       "      <td>2030-01-05</td>\n",
       "    </tr>\n",
       "  </tbody>\n",
       "</table>\n",
       "</div>"
      ],
      "text/plain": [
       "   MinTemp  MaxTemp  Precipitation  ReferenceET       Date\n",
       "0    -12.3      2.5            0.0     1.538538 2030-01-01\n",
       "1     -9.0     -6.0            0.0     0.399806 2030-01-02\n",
       "2     -8.4     11.5            0.0     2.078453 2030-01-03\n",
       "3    -11.6     -6.6            0.0     0.897857 2030-01-04\n",
       "4    -14.7      7.7            0.0     0.441955 2030-01-05"
      ]
     },
     "execution_count": 8,
     "metadata": {
      "tags": []
     },
     "output_type": "execute_result"
    }
   ],
   "source": [
    "select_lars_wdf(wdf_list[0],simyear=3).head()"
   ]
  },
  {
   "cell_type": "markdown",
   "metadata": {
    "id": "ZGgthwrSf3CE"
   },
   "source": [
    "Now that all the climate data is ready, we can define our crop, soil, initial water content and irrigation management. In this example we will use the AquaCrop default Maize crop in calendar day mode. The reason for using calendar day mode is so that the growing season will be the same length in each scenario. \n",
    "\n",
    "We choose a Clay loam soil starting at Field Capacity, and an irrigation policy that irrigates if the soil drops below 70% total available water (essentially meeting full crop-water requirements). "
   ]
  },
  {
   "cell_type": "code",
   "execution_count": 9,
   "metadata": {
    "id": "DdRRM_ejf8Wf"
   },
   "outputs": [],
   "source": [
    "crop=CropClass('Maize',PlantingDate='05/01',\n",
    "               CalendarType=1,Emergence = 6,Senescence=107,\n",
    "               MaxRooting=108,Maturity=132,HIstart=66,\n",
    "               Flowering=13,YldForm=61,CDC=0.117,CGC=0.163)\n",
    "          \n",
    "soil=SoilClass('ClayLoam')\n",
    "init_wc = InitWCClass() # default is field capacity\n",
    "irrmngt=IrrMngtClass(1,SMT=[70]*4)"
   ]
  },
  {
   "cell_type": "markdown",
   "metadata": {
    "id": "hHKzYLN-Ght7"
   },
   "source": [
    "Run the simulation for the baseline period and save the yields and total irrigation."
   ]
  },
  {
   "cell_type": "code",
   "execution_count": 10,
   "metadata": {
    "id": "Qv6VBbzdgTQv"
   },
   "outputs": [],
   "source": [
    "#run for baseline scenario\n",
    "model=AquaCropModel('1982/05/01','2018/10/30',lars_base,soil,crop,\n",
    "                    init_wc,IrrMngt=irrmngt)\n",
    "model.initialize()\n",
    "model.step(till_termination=True)"
   ]
  },
  {
   "cell_type": "code",
   "execution_count": 11,
   "metadata": {
    "id": "aftMgffJgcLc"
   },
   "outputs": [],
   "source": [
    "baseline_yields = list(model.Outputs.Final.Yield.values)\n",
    "baseline_tirrs = list(model.Outputs.Final.Tirr.values)\n",
    "baseline_labels = ['Baseline']*len(baseline_tirrs)"
   ]
  },
  {
   "cell_type": "markdown",
   "metadata": {
    "id": "umwPI7QByco6"
   },
   "source": [
    "Define `run_gen_model` function that runs AquaCrop-OSPy for all 100 generated years of a climate scenario and future period (e.g. 2050 at RCP4.5), saving the yields and total irrigation."
   ]
  },
  {
   "cell_type": "code",
   "execution_count": 12,
   "metadata": {
    "id": "Jf-d-mlKGLij"
   },
   "outputs": [],
   "source": [
    "def run_gen_model(all_wdf,co2conc,year):\n",
    "    gen_yields=[]\n",
    "    gen_tirrs=[]\n",
    "    for i in range(100):\n",
    "        wdf = select_lars_wdf(all_wdf,i+1)\n",
    "        \n",
    "        model=AquaCropModel(f'{year}/05/01',f'{year}/10/30',wdf,soil,crop,\n",
    "                            InitWCClass(),IrrMngt=irrmngt,CO2conc=co2conc)\n",
    "        model.initialize()\n",
    "        model.step(till_termination=True)\n",
    "\n",
    "        gen_yields.append(model.Outputs.Final.Yield.mean())\n",
    "        gen_tirrs.append(model.Outputs.Final.Tirr.mean())\n",
    "\n",
    "    return gen_yields,gen_tirrs"
   ]
  },
  {
   "cell_type": "markdown",
   "metadata": {
    "id": "Qs0_NiBmyzw1"
   },
   "source": [
    "For each combination of climate scenario and projection period, run AquaCrop-OSPy and save results."
   ]
  },
  {
   "cell_type": "code",
   "execution_count": 13,
   "metadata": {
    "colab": {
     "base_uri": "https://localhost:8080/",
     "height": 67,
     "referenced_widgets": [
      "711ff5d1e25949ff99bc4b174df7b6e2",
      "5b536ce8115f4cd8ac07b1ad189181a7",
      "e334c7eec62347f1bdc7c2795c811ed0",
      "cd7829679b154259968e36235d4fd024",
      "b6968aeefa99485497a43cda15ca11a0",
      "51ba106e3e064eff8bef789f10bb31d9",
      "d90113d278494b47bfb0379699e5af22",
      "21b049ff67ac4d53b2ef4b3af0ee99ad"
     ]
    },
    "id": "3-ELlvXQIds1",
    "outputId": "5ef68483-3b69-43b7-a087-6f4804d171d8"
   },
   "outputs": [
    {
     "data": {
      "application/vnd.jupyter.widget-view+json": {
       "model_id": "711ff5d1e25949ff99bc4b174df7b6e2",
       "version_major": 2,
       "version_minor": 0
      },
      "text/plain": [
       "HBox(children=(FloatProgress(value=0.0, max=6.0), HTML(value='')))"
      ]
     },
     "metadata": {
      "tags": []
     },
     "output_type": "display_data"
    },
    {
     "name": "stdout",
     "output_type": "stream",
     "text": [
      "\n"
     ]
    }
   ],
   "source": [
    "from tqdm.notebook import tqdm # progress bar\n",
    "\n",
    "all_ylds = []\n",
    "all_tirrs = []\n",
    "all_labels = []\n",
    "for i in tqdm(range(6)):\n",
    "    year = all_year_list[i]\n",
    "    wdf = wdf_list[i]\n",
    "    co2 = co2_list[i]\n",
    "    label=label_list[i]\n",
    "\n",
    "    yld_list,tirr_list = run_gen_model(wdf,co2,year)\n",
    "\n",
    "    all_ylds.extend(yld_list)\n",
    "    all_tirrs.extend(tirr_list)\n",
    "    all_labels.extend([label]*len(yld_list))\n"
   ]
  },
  {
   "cell_type": "markdown",
   "metadata": {
    "id": "T6MlyETHzEs0"
   },
   "source": [
    "Combine projection results with baseline."
   ]
  },
  {
   "cell_type": "code",
   "execution_count": 14,
   "metadata": {
    "id": "oQ5AFeiFL60U"
   },
   "outputs": [],
   "source": [
    "all_ylds = baseline_yields+all_ylds\n",
    "all_tirrs = baseline_tirrs+all_tirrs\n",
    "all_labels = baseline_labels+all_labels"
   ]
  },
  {
   "cell_type": "code",
   "execution_count": 15,
   "metadata": {
    "colab": {
     "base_uri": "https://localhost:8080/",
     "height": 204
    },
    "id": "6-d_MGn2KBQy",
    "outputId": "200d4e54-ab2b-4d97-d36c-020f894889cf"
   },
   "outputs": [
    {
     "data": {
      "text/html": [
       "<div>\n",
       "<style scoped>\n",
       "    .dataframe tbody tr th:only-of-type {\n",
       "        vertical-align: middle;\n",
       "    }\n",
       "\n",
       "    .dataframe tbody tr th {\n",
       "        vertical-align: top;\n",
       "    }\n",
       "\n",
       "    .dataframe thead th {\n",
       "        text-align: right;\n",
       "    }\n",
       "</style>\n",
       "<table border=\"1\" class=\"dataframe\">\n",
       "  <thead>\n",
       "    <tr style=\"text-align: right;\">\n",
       "      <th></th>\n",
       "      <th>Yield</th>\n",
       "      <th>Tirr</th>\n",
       "      <th>Label</th>\n",
       "    </tr>\n",
       "  </thead>\n",
       "  <tbody>\n",
       "    <tr>\n",
       "      <th>0</th>\n",
       "      <td>12.7553</td>\n",
       "      <td>296.342</td>\n",
       "      <td>Baseline</td>\n",
       "    </tr>\n",
       "    <tr>\n",
       "      <th>1</th>\n",
       "      <td>13.104</td>\n",
       "      <td>271.581</td>\n",
       "      <td>Baseline</td>\n",
       "    </tr>\n",
       "    <tr>\n",
       "      <th>2</th>\n",
       "      <td>13.691</td>\n",
       "      <td>495.745</td>\n",
       "      <td>Baseline</td>\n",
       "    </tr>\n",
       "    <tr>\n",
       "      <th>3</th>\n",
       "      <td>13.4041</td>\n",
       "      <td>485.897</td>\n",
       "      <td>Baseline</td>\n",
       "    </tr>\n",
       "    <tr>\n",
       "      <th>4</th>\n",
       "      <td>13.7519</td>\n",
       "      <td>357.686</td>\n",
       "      <td>Baseline</td>\n",
       "    </tr>\n",
       "  </tbody>\n",
       "</table>\n",
       "</div>"
      ],
      "text/plain": [
       "     Yield     Tirr     Label\n",
       "0  12.7553  296.342  Baseline\n",
       "1   13.104  271.581  Baseline\n",
       "2   13.691  495.745  Baseline\n",
       "3  13.4041  485.897  Baseline\n",
       "4  13.7519  357.686  Baseline"
      ]
     },
     "execution_count": 15,
     "metadata": {
      "tags": []
     },
     "output_type": "execute_result"
    }
   ],
   "source": [
    "import pandas as pd\n",
    "\n",
    "df = pd.DataFrame([all_ylds,all_tirrs,all_labels]).T\n",
    "df.columns = ['Yield','Tirr','Label']\n",
    "df.head()"
   ]
  },
  {
   "cell_type": "markdown",
   "metadata": {
    "id": "dfDRBGSxzSMb"
   },
   "source": [
    "Visualize results for all projections and baselines."
   ]
  },
  {
   "cell_type": "code",
   "execution_count": 16,
   "metadata": {
    "colab": {
     "base_uri": "https://localhost:8080/",
     "height": 863
    },
    "id": "xEM5XqIBKTT3",
    "outputId": "a9427fb1-cd19-41af-a6f1-47f9013a37ed"
   },
   "outputs": [
    {
     "data": {
      "text/plain": [
       "Text(0, 0.5, 'Total Irrigation (ha-mm)')"
      ]
     },
     "execution_count": 16,
     "metadata": {
      "tags": []
     },
     "output_type": "execute_result"
    },
    {
     "data": {
      "image/png": "[encoded data removed]",
      "text/plain": [
       "<Figure size 864x1008 with 2 Axes>"
      ]
     },
     "metadata": {
      "needs_background": "light",
      "tags": []
     },
     "output_type": "display_data"
    }
   ],
   "source": [
    "# plotting libraries\n",
    "import matplotlib.pyplot as plt\n",
    "import seaborn as sns\n",
    "\n",
    "# create figure \n",
    "fig,ax=plt.subplots(2,1,figsize=(12,14))\n",
    "\n",
    "# create box plots\n",
    "sns.boxplot(data=df,x='Label',y='Yield',ax=ax[0])\n",
    "sns.boxplot(data=df,x='Label',y='Tirr',ax=ax[1])\n",
    "\n",
    "# labels and fontsize\n",
    "\n",
    "ax[0].tick_params(labelsize=15)\n",
    "ax[0].set_xlabel(' ')\n",
    "ax[0].set_ylabel('Yield (t/ha)',fontsize=18)\n",
    "\n",
    "ax[1].tick_params(labelsize=15)\n",
    "ax[1].set_xlabel(' ')\n",
    "ax[1].set_ylabel('Total Irrigation (ha-mm)',fontsize=18)"
   ]
  },
  {
   "cell_type": "code",
   "execution_count": 16,
   "metadata": {
    "id": "Nn803SAaMMYw"
   },
   "outputs": [],
   "source": []
  }
 ],
 "metadata": {
  "colab": {
   "collapsed_sections": [],
   "name": "AquaCrop-OSPy: Notebook 4.ipynb",
   "provenance": [],
   "toc_visible": true
  },
  "kernelspec": {
   "display_name": "Python 3",
   "language": "python",
   "name": "python3"
  },
  "language_info": {
   "codemirror_mode": {
    "name": "ipython",
    "version": 3
   },
   "file_extension": ".py",
   "mimetype": "text/x-python",
   "name": "python",
   "nbconvert_exporter": "python",
   "pygments_lexer": "ipython3",
   "version": "3.8.5"
  },
  "widgets": {
   "application/vnd.jupyter.widget-state+json": {
    "21b049ff67ac4d53b2ef4b3af0ee99ad": {
     "model_module": "@jupyter-widgets/base",
     "model_name": "LayoutModel",
     "state": {
      "_model_module": "@jupyter-widgets/base",
      "_model_module_version": "1.2.0",
      "_model_name": "LayoutModel",
      "_view_count": null,
      "_view_module": "@jupyter-widgets/base",
      "_view_module_version": "1.2.0",
      "_view_name": "LayoutView",
      "align_content": null,
      "align_items": null,
      "align_self": null,
      "border": null,
      "bottom": null,
      "display": null,
      "flex": null,
      "flex_flow": null,
      "grid_area": null,
      "grid_auto_columns": null,
      "grid_auto_flow": null,
      "grid_auto_rows": null,
      "grid_column": null,
      "grid_gap": null,
      "grid_row": null,
      "grid_template_areas": null,
      "grid_template_columns": null,
      "grid_template_rows": null,
      "height": null,
      "justify_content": null,
      "justify_items": null,
      "left": null,
      "margin": null,
      "max_height": null,
      "max_width": null,
      "min_height": null,
      "min_width": null,
      "object_fit": null,
      "object_position": null,
      "order": null,
      "overflow": null,
      "overflow_x": null,
      "overflow_y": null,
      "padding": null,
      "right": null,
      "top": null,
      "visibility": null,
      "width": null
     }
    },
    "51ba106e3e064eff8bef789f10bb31d9": {
     "model_module": "@jupyter-widgets/base",
     "model_name": "LayoutModel",
     "state": {
      "_model_module": "@jupyter-widgets/base",
      "_model_module_version": "1.2.0",
      "_model_name": "LayoutModel",
      "_view_count": null,
      "_view_module": "@jupyter-widgets/base",
      "_view_module_version": "1.2.0",
      "_view_name": "LayoutView",
      "align_content": null,
      "align_items": null,
      "align_self": null,
      "border": null,
      "bottom": null,
      "display": null,
      "flex": null,
      "flex_flow": null,
      "grid_area": null,
      "grid_auto_columns": null,
      "grid_auto_flow": null,
      "grid_auto_rows": null,
      "grid_column": null,
      "grid_gap": null,
      "grid_row": null,
      "grid_template_areas": null,
      "grid_template_columns": null,
      "grid_template_rows": null,
      "height": null,
      "justify_content": null,
      "justify_items": null,
      "left": null,
      "margin": null,
      "max_height": null,
      "max_width": null,
      "min_height": null,
      "min_width": null,
      "object_fit": null,
      "object_position": null,
      "order": null,
      "overflow": null,
      "overflow_x": null,
      "overflow_y": null,
      "padding": null,
      "right": null,
      "top": null,
      "visibility": null,
      "width": null
     }
    },
    "5b536ce8115f4cd8ac07b1ad189181a7": {
     "model_module": "@jupyter-widgets/base",
     "model_name": "LayoutModel",
     "state": {
      "_model_module": "@jupyter-widgets/base",
      "_model_module_version": "1.2.0",
      "_model_name": "LayoutModel",
      "_view_count": null,
      "_view_module": "@jupyter-widgets/base",
      "_view_module_version": "1.2.0",
      "_view_name": "LayoutView",
      "align_content": null,
      "align_items": null,
      "align_self": null,
      "border": null,
      "bottom": null,
      "display": null,
      "flex": null,
      "flex_flow": null,
      "grid_area": null,
      "grid_auto_columns": null,
      "grid_auto_flow": null,
      "grid_auto_rows": null,
      "grid_column": null,
      "grid_gap": null,
      "grid_row": null,
      "grid_template_areas": null,
      "grid_template_columns": null,
      "grid_template_rows": null,
      "height": null,
      "justify_content": null,
      "justify_items": null,
      "left": null,
      "margin": null,
      "max_height": null,
      "max_width": null,
      "min_height": null,
      "min_width": null,
      "object_fit": null,
      "object_position": null,
      "order": null,
      "overflow": null,
      "overflow_x": null,
      "overflow_y": null,
      "padding": null,
      "right": null,
      "top": null,
      "visibility": null,
      "width": null
     }
    },
    "711ff5d1e25949ff99bc4b174df7b6e2": {
     "model_module": "@jupyter-widgets/controls",
     "model_name": "HBoxModel",
     "state": {
      "_dom_classes": [],
      "_model_module": "@jupyter-widgets/controls",
      "_model_module_version": "1.5.0",
      "_model_name": "HBoxModel",
      "_view_count": null,
      "_view_module": "@jupyter-widgets/controls",
      "_view_module_version": "1.5.0",
      "_view_name": "HBoxView",
      "box_style": "",
      "children": [
       "IPY_MODEL_e334c7eec62347f1bdc7c2795c811ed0",
       "IPY_MODEL_cd7829679b154259968e36235d4fd024"
      ],
      "layout": "IPY_MODEL_5b536ce8115f4cd8ac07b1ad189181a7"
     }
    },
    "b6968aeefa99485497a43cda15ca11a0": {
     "model_module": "@jupyter-widgets/controls",
     "model_name": "ProgressStyleModel",
     "state": {
      "_model_module": "@jupyter-widgets/controls",
      "_model_module_version": "1.5.0",
      "_model_name": "ProgressStyleModel",
      "_view_count": null,
      "_view_module": "@jupyter-widgets/base",
      "_view_module_version": "1.2.0",
      "_view_name": "StyleView",
      "bar_color": null,
      "description_width": "initial"
     }
    },
    "cd7829679b154259968e36235d4fd024": {
     "model_module": "@jupyter-widgets/controls",
     "model_name": "HTMLModel",
     "state": {
      "_dom_classes": [],
      "_model_module": "@jupyter-widgets/controls",
      "_model_module_version": "1.5.0",
      "_model_name": "HTMLModel",
      "_view_count": null,
      "_view_module": "@jupyter-widgets/controls",
      "_view_module_version": "1.5.0",
      "_view_name": "HTMLView",
      "description": "",
      "description_tooltip": null,
      "layout": "IPY_MODEL_21b049ff67ac4d53b2ef4b3af0ee99ad",
      "placeholder": "​",
      "style": "IPY_MODEL_d90113d278494b47bfb0379699e5af22",
      "value": " 6/6 [00:32&lt;00:00,  5.40s/it]"
     }
    },
    "d90113d278494b47bfb0379699e5af22": {
     "model_module": "@jupyter-widgets/controls",
     "model_name": "DescriptionStyleModel",
     "state": {
      "_model_module": "@jupyter-widgets/controls",
      "_model_module_version": "1.5.0",
      "_model_name": "DescriptionStyleModel",
      "_view_count": null,
      "_view_module": "@jupyter-widgets/base",
      "_view_module_version": "1.2.0",
      "_view_name": "StyleView",
      "description_width": ""
     }
    },
    "e334c7eec62347f1bdc7c2795c811ed0": {
     "model_module": "@jupyter-widgets/controls",
     "model_name": "FloatProgressModel",
     "state": {
      "_dom_classes": [],
      "_model_module": "@jupyter-widgets/controls",
      "_model_module_version": "1.5.0",
      "_model_name": "FloatProgressModel",
      "_view_count": null,
      "_view_module": "@jupyter-widgets/controls",
      "_view_module_version": "1.5.0",
      "_view_name": "ProgressView",
      "bar_style": "success",
      "description": "100%",
      "description_tooltip": null,
      "layout": "IPY_MODEL_51ba106e3e064eff8bef789f10bb31d9",
      "max": 6,
      "min": 0,
      "orientation": "horizontal",
      "style": "IPY_MODEL_b6968aeefa99485497a43cda15ca11a0",
      "value": 6
     }
    }
   }
  }
 },
 "nbformat": 4,
 "nbformat_minor": 4
}
